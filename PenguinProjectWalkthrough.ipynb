{
 "cells": [
  {
   "cell_type": "markdown",
   "id": "28f008dc-2c93-44f9-be31-fd7ce0f7f08d",
   "metadata": {},
   "source": [
    "# Penguin Project\n",
    "#### Raashi Chaudhari, Christen Tai, Ryan Voda"
   ]
  },
  {
   "cell_type": "markdown",
   "id": "1c859196-6131-49e3-bdc8-22c3c5c454b2",
   "metadata": {},
   "source": [
    "Can we find the best predictors of the species of a penguin and predict a penguin's species based on just a few data points? In this project, we are going to walk through how to make a program which solves this problem.\n",
    "\n",
    "Our sample set will be the Palmer Penguins data set, containing Adelie, Chinstrap, and Gentoo penguins."
   ]
  },
  {
   "cell_type": "markdown",
   "id": "b5f5df62-e7b3-4ed0-973f-1cf3dd965e71",
   "metadata": {},
   "source": [
    "## Accessing the Data"
   ]
  },
  {
   "cell_type": "markdown",
   "id": "65a9f99e-2909-46ea-96ba-4c662cb111e9",
   "metadata": {},
   "source": [
    "Before we do anything, import the required python packages."
   ]
  },
  {
   "cell_type": "code",
   "execution_count": 1,
   "id": "0570cccd-225c-4772-a219-56633362b974",
   "metadata": {},
   "outputs": [],
   "source": [
    "import pandas as pd\n",
    "import urllib\n",
    "import numpy as np\n",
    "import csv\n",
    "from matplotlib import pyplot as plt\n",
    "from sklearn import tree, preprocessing\n",
    "from sklearn.model_selection import train_test_split\n",
    "from sklearn.ensemble import RandomForestClassifier\n",
    "from sklearn.datasets import make_classification\n",
    "from sklearn.linear_model import LogisticRegression # picked a MODEL CLASS\n",
    "from sklearn.model_selection import cross_val_score\n",
    "from sklearn.cluster import KMeans\n",
    "from sklearn import metrics"
   ]
  },
  {
   "cell_type": "markdown",
   "id": "165800f8-e2cc-42a4-98ec-f20462a06901",
   "metadata": {},
   "source": [
    "First, let's start to interpret our data by accessing a csv file containing the data. In this case, the Palmer Penguins data set is declared by:\n",
    "\n",
    "url = \"https://philchodrow.github.io/PIC16A/datasets/palmer_penguins.csv\"\n",
    "\n",
    "and we read this csv file and declare it as a dataframe."
   ]
  },
  {
   "cell_type": "code",
   "execution_count": 2,
   "id": "12869937-c020-4e07-b977-3fd590fefbc6",
   "metadata": {},
   "outputs": [],
   "source": [
    "url = \"https://philchodrow.github.io/PIC16A/datasets/palmer_penguins.csv\"\n",
    "filedata = urllib.request.urlopen(url)\n",
    "to_write = filedata.read()\n",
    "\n",
    "try:\n",
    "    with open(\"palmer_penguins.csv\", \"wb\") as f:\n",
    "        f.write(to_write)\n",
    "    penguins = pd.read_csv('palmer_penguins.csv') # read csv file, save it as a data frame\n",
    "except csv.Error:\n",
    "    print(\"Not a csv\")"
   ]
  },
  {
   "cell_type": "markdown",
   "id": "749b39dc-3b3a-4829-8612-cf00b5deac39",
   "metadata": {},
   "source": [
    "## Data Exploration"
   ]
  },
  {
   "cell_type": "markdown",
   "id": "b2540927-2865-4891-888a-abd810a88097",
   "metadata": {},
   "source": [
    "Now that we have converted our data to a pandas dataframe, we can read the beginning of it:"
   ]
  },
  {
   "cell_type": "code",
   "execution_count": 3,
   "id": "b6151396-fb2e-4565-8630-771e615ea699",
   "metadata": {
    "scrolled": true
   },
   "outputs": [
    {
     "data": {
      "text/html": [
       "<div>\n",
       "<style scoped>\n",
       "    .dataframe tbody tr th:only-of-type {\n",
       "        vertical-align: middle;\n",
       "    }\n",
       "\n",
       "    .dataframe tbody tr th {\n",
       "        vertical-align: top;\n",
       "    }\n",
       "\n",
       "    .dataframe thead th {\n",
       "        text-align: right;\n",
       "    }\n",
       "</style>\n",
       "<table border=\"1\" class=\"dataframe\">\n",
       "  <thead>\n",
       "    <tr style=\"text-align: right;\">\n",
       "      <th></th>\n",
       "      <th>studyName</th>\n",
       "      <th>Sample Number</th>\n",
       "      <th>Species</th>\n",
       "      <th>Region</th>\n",
       "      <th>Island</th>\n",
       "      <th>Stage</th>\n",
       "      <th>Individual ID</th>\n",
       "      <th>Clutch Completion</th>\n",
       "      <th>Date Egg</th>\n",
       "      <th>Culmen Length (mm)</th>\n",
       "      <th>Culmen Depth (mm)</th>\n",
       "      <th>Flipper Length (mm)</th>\n",
       "      <th>Body Mass (g)</th>\n",
       "      <th>Sex</th>\n",
       "      <th>Delta 15 N (o/oo)</th>\n",
       "      <th>Delta 13 C (o/oo)</th>\n",
       "      <th>Comments</th>\n",
       "    </tr>\n",
       "  </thead>\n",
       "  <tbody>\n",
       "    <tr>\n",
       "      <th>0</th>\n",
       "      <td>PAL0708</td>\n",
       "      <td>1</td>\n",
       "      <td>Adelie Penguin (Pygoscelis adeliae)</td>\n",
       "      <td>Anvers</td>\n",
       "      <td>Torgersen</td>\n",
       "      <td>Adult, 1 Egg Stage</td>\n",
       "      <td>N1A1</td>\n",
       "      <td>Yes</td>\n",
       "      <td>11/11/07</td>\n",
       "      <td>39.1</td>\n",
       "      <td>18.7</td>\n",
       "      <td>181.0</td>\n",
       "      <td>3750.0</td>\n",
       "      <td>MALE</td>\n",
       "      <td>NaN</td>\n",
       "      <td>NaN</td>\n",
       "      <td>Not enough blood for isotopes.</td>\n",
       "    </tr>\n",
       "    <tr>\n",
       "      <th>1</th>\n",
       "      <td>PAL0708</td>\n",
       "      <td>2</td>\n",
       "      <td>Adelie Penguin (Pygoscelis adeliae)</td>\n",
       "      <td>Anvers</td>\n",
       "      <td>Torgersen</td>\n",
       "      <td>Adult, 1 Egg Stage</td>\n",
       "      <td>N1A2</td>\n",
       "      <td>Yes</td>\n",
       "      <td>11/11/07</td>\n",
       "      <td>39.5</td>\n",
       "      <td>17.4</td>\n",
       "      <td>186.0</td>\n",
       "      <td>3800.0</td>\n",
       "      <td>FEMALE</td>\n",
       "      <td>8.94956</td>\n",
       "      <td>-24.69454</td>\n",
       "      <td>NaN</td>\n",
       "    </tr>\n",
       "    <tr>\n",
       "      <th>2</th>\n",
       "      <td>PAL0708</td>\n",
       "      <td>3</td>\n",
       "      <td>Adelie Penguin (Pygoscelis adeliae)</td>\n",
       "      <td>Anvers</td>\n",
       "      <td>Torgersen</td>\n",
       "      <td>Adult, 1 Egg Stage</td>\n",
       "      <td>N2A1</td>\n",
       "      <td>Yes</td>\n",
       "      <td>11/16/07</td>\n",
       "      <td>40.3</td>\n",
       "      <td>18.0</td>\n",
       "      <td>195.0</td>\n",
       "      <td>3250.0</td>\n",
       "      <td>FEMALE</td>\n",
       "      <td>8.36821</td>\n",
       "      <td>-25.33302</td>\n",
       "      <td>NaN</td>\n",
       "    </tr>\n",
       "    <tr>\n",
       "      <th>3</th>\n",
       "      <td>PAL0708</td>\n",
       "      <td>4</td>\n",
       "      <td>Adelie Penguin (Pygoscelis adeliae)</td>\n",
       "      <td>Anvers</td>\n",
       "      <td>Torgersen</td>\n",
       "      <td>Adult, 1 Egg Stage</td>\n",
       "      <td>N2A2</td>\n",
       "      <td>Yes</td>\n",
       "      <td>11/16/07</td>\n",
       "      <td>NaN</td>\n",
       "      <td>NaN</td>\n",
       "      <td>NaN</td>\n",
       "      <td>NaN</td>\n",
       "      <td>NaN</td>\n",
       "      <td>NaN</td>\n",
       "      <td>NaN</td>\n",
       "      <td>Adult not sampled.</td>\n",
       "    </tr>\n",
       "    <tr>\n",
       "      <th>4</th>\n",
       "      <td>PAL0708</td>\n",
       "      <td>5</td>\n",
       "      <td>Adelie Penguin (Pygoscelis adeliae)</td>\n",
       "      <td>Anvers</td>\n",
       "      <td>Torgersen</td>\n",
       "      <td>Adult, 1 Egg Stage</td>\n",
       "      <td>N3A1</td>\n",
       "      <td>Yes</td>\n",
       "      <td>11/16/07</td>\n",
       "      <td>36.7</td>\n",
       "      <td>19.3</td>\n",
       "      <td>193.0</td>\n",
       "      <td>3450.0</td>\n",
       "      <td>FEMALE</td>\n",
       "      <td>8.76651</td>\n",
       "      <td>-25.32426</td>\n",
       "      <td>NaN</td>\n",
       "    </tr>\n",
       "  </tbody>\n",
       "</table>\n",
       "</div>"
      ],
      "text/plain": [
       "  studyName  Sample Number                              Species  Region  \\\n",
       "0   PAL0708              1  Adelie Penguin (Pygoscelis adeliae)  Anvers   \n",
       "1   PAL0708              2  Adelie Penguin (Pygoscelis adeliae)  Anvers   \n",
       "2   PAL0708              3  Adelie Penguin (Pygoscelis adeliae)  Anvers   \n",
       "3   PAL0708              4  Adelie Penguin (Pygoscelis adeliae)  Anvers   \n",
       "4   PAL0708              5  Adelie Penguin (Pygoscelis adeliae)  Anvers   \n",
       "\n",
       "      Island               Stage Individual ID Clutch Completion  Date Egg  \\\n",
       "0  Torgersen  Adult, 1 Egg Stage          N1A1               Yes  11/11/07   \n",
       "1  Torgersen  Adult, 1 Egg Stage          N1A2               Yes  11/11/07   \n",
       "2  Torgersen  Adult, 1 Egg Stage          N2A1               Yes  11/16/07   \n",
       "3  Torgersen  Adult, 1 Egg Stage          N2A2               Yes  11/16/07   \n",
       "4  Torgersen  Adult, 1 Egg Stage          N3A1               Yes  11/16/07   \n",
       "\n",
       "   Culmen Length (mm)  Culmen Depth (mm)  Flipper Length (mm)  Body Mass (g)  \\\n",
       "0                39.1               18.7                181.0         3750.0   \n",
       "1                39.5               17.4                186.0         3800.0   \n",
       "2                40.3               18.0                195.0         3250.0   \n",
       "3                 NaN                NaN                  NaN            NaN   \n",
       "4                36.7               19.3                193.0         3450.0   \n",
       "\n",
       "      Sex  Delta 15 N (o/oo)  Delta 13 C (o/oo)  \\\n",
       "0    MALE                NaN                NaN   \n",
       "1  FEMALE            8.94956          -24.69454   \n",
       "2  FEMALE            8.36821          -25.33302   \n",
       "3     NaN                NaN                NaN   \n",
       "4  FEMALE            8.76651          -25.32426   \n",
       "\n",
       "                         Comments  \n",
       "0  Not enough blood for isotopes.  \n",
       "1                             NaN  \n",
       "2                             NaN  \n",
       "3              Adult not sampled.  \n",
       "4                             NaN  "
      ]
     },
     "execution_count": 3,
     "metadata": {},
     "output_type": "execute_result"
    }
   ],
   "source": [
    "penguins.head()"
   ]
  },
  {
   "cell_type": "markdown",
   "id": "9f14fe00-c945-4384-8df9-d4d3c54e0919",
   "metadata": {},
   "source": [
    "We now separate the species by declaring them based on their names in the \"Species\" column:"
   ]
  },
  {
   "cell_type": "code",
   "execution_count": 4,
   "id": "0b06b147-a9d7-4aba-b95d-c60ca6e99f07",
   "metadata": {},
   "outputs": [],
   "source": [
    "Adel = penguins[penguins[\"Species\"] == \"Adelie Penguin (Pygoscelis adeliae)\"]\n",
    "Gen = penguins[penguins[\"Species\"] == \"Gentoo Penguin (Pygoscelis papua)\"]\n",
    "Chin = penguins[penguins[\"Species\"] == \"Chinstrap Penguin (Pygoscelis antarctica)\"]"
   ]
  },
  {
   "cell_type": "markdown",
   "id": "49b0fa53-86c8-40f7-a3ab-e95fb8207ed9",
   "metadata": {},
   "source": [
    "For simplicity, we make a new column containing shortened names of penguin species. \"Adelie\" is much simpler than \"Adelie Penguin (Pygoscelis adeliae)\"."
   ]
  },
  {
   "cell_type": "code",
   "execution_count": 5,
   "id": "2f23047b-5939-4584-a14d-85e5f5fd3226",
   "metadata": {},
   "outputs": [
    {
     "data": {
      "text/html": [
       "<div>\n",
       "<style scoped>\n",
       "    .dataframe tbody tr th:only-of-type {\n",
       "        vertical-align: middle;\n",
       "    }\n",
       "\n",
       "    .dataframe tbody tr th {\n",
       "        vertical-align: top;\n",
       "    }\n",
       "\n",
       "    .dataframe thead th {\n",
       "        text-align: right;\n",
       "    }\n",
       "</style>\n",
       "<table border=\"1\" class=\"dataframe\">\n",
       "  <thead>\n",
       "    <tr style=\"text-align: right;\">\n",
       "      <th></th>\n",
       "      <th>studyName</th>\n",
       "      <th>Sample Number</th>\n",
       "      <th>Species</th>\n",
       "      <th>Region</th>\n",
       "      <th>Island</th>\n",
       "      <th>Stage</th>\n",
       "      <th>Individual ID</th>\n",
       "      <th>Clutch Completion</th>\n",
       "      <th>Date Egg</th>\n",
       "      <th>Culmen Length (mm)</th>\n",
       "      <th>Culmen Depth (mm)</th>\n",
       "      <th>Flipper Length (mm)</th>\n",
       "      <th>Body Mass (g)</th>\n",
       "      <th>Sex</th>\n",
       "      <th>Delta 15 N (o/oo)</th>\n",
       "      <th>Delta 13 C (o/oo)</th>\n",
       "      <th>Comments</th>\n",
       "    </tr>\n",
       "  </thead>\n",
       "  <tbody>\n",
       "    <tr>\n",
       "      <th>0</th>\n",
       "      <td>PAL0708</td>\n",
       "      <td>1</td>\n",
       "      <td>Adelie</td>\n",
       "      <td>Anvers</td>\n",
       "      <td>Torgersen</td>\n",
       "      <td>Adult, 1 Egg Stage</td>\n",
       "      <td>N1A1</td>\n",
       "      <td>Yes</td>\n",
       "      <td>11/11/07</td>\n",
       "      <td>39.1</td>\n",
       "      <td>18.7</td>\n",
       "      <td>181.0</td>\n",
       "      <td>3750.0</td>\n",
       "      <td>MALE</td>\n",
       "      <td>NaN</td>\n",
       "      <td>NaN</td>\n",
       "      <td>Not enough blood for isotopes.</td>\n",
       "    </tr>\n",
       "    <tr>\n",
       "      <th>1</th>\n",
       "      <td>PAL0708</td>\n",
       "      <td>2</td>\n",
       "      <td>Adelie</td>\n",
       "      <td>Anvers</td>\n",
       "      <td>Torgersen</td>\n",
       "      <td>Adult, 1 Egg Stage</td>\n",
       "      <td>N1A2</td>\n",
       "      <td>Yes</td>\n",
       "      <td>11/11/07</td>\n",
       "      <td>39.5</td>\n",
       "      <td>17.4</td>\n",
       "      <td>186.0</td>\n",
       "      <td>3800.0</td>\n",
       "      <td>FEMALE</td>\n",
       "      <td>8.94956</td>\n",
       "      <td>-24.69454</td>\n",
       "      <td>NaN</td>\n",
       "    </tr>\n",
       "    <tr>\n",
       "      <th>2</th>\n",
       "      <td>PAL0708</td>\n",
       "      <td>3</td>\n",
       "      <td>Adelie</td>\n",
       "      <td>Anvers</td>\n",
       "      <td>Torgersen</td>\n",
       "      <td>Adult, 1 Egg Stage</td>\n",
       "      <td>N2A1</td>\n",
       "      <td>Yes</td>\n",
       "      <td>11/16/07</td>\n",
       "      <td>40.3</td>\n",
       "      <td>18.0</td>\n",
       "      <td>195.0</td>\n",
       "      <td>3250.0</td>\n",
       "      <td>FEMALE</td>\n",
       "      <td>8.36821</td>\n",
       "      <td>-25.33302</td>\n",
       "      <td>NaN</td>\n",
       "    </tr>\n",
       "    <tr>\n",
       "      <th>3</th>\n",
       "      <td>PAL0708</td>\n",
       "      <td>4</td>\n",
       "      <td>Adelie</td>\n",
       "      <td>Anvers</td>\n",
       "      <td>Torgersen</td>\n",
       "      <td>Adult, 1 Egg Stage</td>\n",
       "      <td>N2A2</td>\n",
       "      <td>Yes</td>\n",
       "      <td>11/16/07</td>\n",
       "      <td>NaN</td>\n",
       "      <td>NaN</td>\n",
       "      <td>NaN</td>\n",
       "      <td>NaN</td>\n",
       "      <td>NaN</td>\n",
       "      <td>NaN</td>\n",
       "      <td>NaN</td>\n",
       "      <td>Adult not sampled.</td>\n",
       "    </tr>\n",
       "    <tr>\n",
       "      <th>4</th>\n",
       "      <td>PAL0708</td>\n",
       "      <td>5</td>\n",
       "      <td>Adelie</td>\n",
       "      <td>Anvers</td>\n",
       "      <td>Torgersen</td>\n",
       "      <td>Adult, 1 Egg Stage</td>\n",
       "      <td>N3A1</td>\n",
       "      <td>Yes</td>\n",
       "      <td>11/16/07</td>\n",
       "      <td>36.7</td>\n",
       "      <td>19.3</td>\n",
       "      <td>193.0</td>\n",
       "      <td>3450.0</td>\n",
       "      <td>FEMALE</td>\n",
       "      <td>8.76651</td>\n",
       "      <td>-25.32426</td>\n",
       "      <td>NaN</td>\n",
       "    </tr>\n",
       "  </tbody>\n",
       "</table>\n",
       "</div>"
      ],
      "text/plain": [
       "  studyName  Sample Number Species  Region     Island               Stage  \\\n",
       "0   PAL0708              1  Adelie  Anvers  Torgersen  Adult, 1 Egg Stage   \n",
       "1   PAL0708              2  Adelie  Anvers  Torgersen  Adult, 1 Egg Stage   \n",
       "2   PAL0708              3  Adelie  Anvers  Torgersen  Adult, 1 Egg Stage   \n",
       "3   PAL0708              4  Adelie  Anvers  Torgersen  Adult, 1 Egg Stage   \n",
       "4   PAL0708              5  Adelie  Anvers  Torgersen  Adult, 1 Egg Stage   \n",
       "\n",
       "  Individual ID Clutch Completion  Date Egg  Culmen Length (mm)  \\\n",
       "0          N1A1               Yes  11/11/07                39.1   \n",
       "1          N1A2               Yes  11/11/07                39.5   \n",
       "2          N2A1               Yes  11/16/07                40.3   \n",
       "3          N2A2               Yes  11/16/07                 NaN   \n",
       "4          N3A1               Yes  11/16/07                36.7   \n",
       "\n",
       "   Culmen Depth (mm)  Flipper Length (mm)  Body Mass (g)     Sex  \\\n",
       "0               18.7                181.0         3750.0    MALE   \n",
       "1               17.4                186.0         3800.0  FEMALE   \n",
       "2               18.0                195.0         3250.0  FEMALE   \n",
       "3                NaN                  NaN            NaN     NaN   \n",
       "4               19.3                193.0         3450.0  FEMALE   \n",
       "\n",
       "   Delta 15 N (o/oo)  Delta 13 C (o/oo)                        Comments  \n",
       "0                NaN                NaN  Not enough blood for isotopes.  \n",
       "1            8.94956          -24.69454                             NaN  \n",
       "2            8.36821          -25.33302                             NaN  \n",
       "3                NaN                NaN              Adult not sampled.  \n",
       "4            8.76651          -25.32426                             NaN  "
      ]
     },
     "execution_count": 5,
     "metadata": {},
     "output_type": "execute_result"
    }
   ],
   "source": [
    "penguins['Species'] = penguins['Species'].str.split().str.get(0)\n",
    "penguins.head()"
   ]
  },
  {
   "cell_type": "markdown",
   "id": "dcb69678-8967-490e-a0c3-5cbeecb90ef5",
   "metadata": {},
   "source": [
    "Now, let's create an array called \"species\" which contains the types of species in our dataframe, so we know what we're working with:"
   ]
  },
  {
   "cell_type": "code",
   "execution_count": 6,
   "id": "bfea8ca0-1175-4b72-aeda-94fc12dee44d",
   "metadata": {},
   "outputs": [
    {
     "data": {
      "text/plain": [
       "array(['Adelie', 'Chinstrap', 'Gentoo'], dtype=object)"
      ]
     },
     "execution_count": 6,
     "metadata": {},
     "output_type": "execute_result"
    }
   ],
   "source": [
    "species = pd.unique(penguins['Species'])\n",
    "species"
   ]
  },
  {
   "cell_type": "markdown",
   "id": "b86985d1-9eca-42ea-aaa9-62b132e11b2e",
   "metadata": {},
   "source": [
    "Observe the mean metrics of each species:"
   ]
  },
  {
   "cell_type": "code",
   "execution_count": 7,
   "id": "e171dda3-5344-4bcd-a9d7-dd0c2e9362fb",
   "metadata": {},
   "outputs": [
    {
     "data": {
      "text/html": [
       "<div>\n",
       "<style scoped>\n",
       "    .dataframe tbody tr th:only-of-type {\n",
       "        vertical-align: middle;\n",
       "    }\n",
       "\n",
       "    .dataframe tbody tr th {\n",
       "        vertical-align: top;\n",
       "    }\n",
       "\n",
       "    .dataframe thead th {\n",
       "        text-align: right;\n",
       "    }\n",
       "</style>\n",
       "<table border=\"1\" class=\"dataframe\">\n",
       "  <thead>\n",
       "    <tr style=\"text-align: right;\">\n",
       "      <th></th>\n",
       "      <th>Sample Number</th>\n",
       "      <th>Culmen Length (mm)</th>\n",
       "      <th>Culmen Depth (mm)</th>\n",
       "      <th>Flipper Length (mm)</th>\n",
       "      <th>Body Mass (g)</th>\n",
       "      <th>Delta 15 N (o/oo)</th>\n",
       "      <th>Delta 13 C (o/oo)</th>\n",
       "    </tr>\n",
       "    <tr>\n",
       "      <th>Species</th>\n",
       "      <th></th>\n",
       "      <th></th>\n",
       "      <th></th>\n",
       "      <th></th>\n",
       "      <th></th>\n",
       "      <th></th>\n",
       "      <th></th>\n",
       "    </tr>\n",
       "  </thead>\n",
       "  <tbody>\n",
       "    <tr>\n",
       "      <th>Adelie</th>\n",
       "      <td>76.5</td>\n",
       "      <td>38.791391</td>\n",
       "      <td>18.346358</td>\n",
       "      <td>189.953642</td>\n",
       "      <td>3700.662252</td>\n",
       "      <td>8.859733</td>\n",
       "      <td>-25.804194</td>\n",
       "    </tr>\n",
       "    <tr>\n",
       "      <th>Chinstrap</th>\n",
       "      <td>34.5</td>\n",
       "      <td>48.833824</td>\n",
       "      <td>18.420588</td>\n",
       "      <td>195.823529</td>\n",
       "      <td>3733.088235</td>\n",
       "      <td>9.356155</td>\n",
       "      <td>-24.546542</td>\n",
       "    </tr>\n",
       "    <tr>\n",
       "      <th>Gentoo</th>\n",
       "      <td>62.5</td>\n",
       "      <td>47.504878</td>\n",
       "      <td>14.982114</td>\n",
       "      <td>217.186992</td>\n",
       "      <td>5076.016260</td>\n",
       "      <td>8.245338</td>\n",
       "      <td>-26.185298</td>\n",
       "    </tr>\n",
       "  </tbody>\n",
       "</table>\n",
       "</div>"
      ],
      "text/plain": [
       "           Sample Number  Culmen Length (mm)  Culmen Depth (mm)  \\\n",
       "Species                                                           \n",
       "Adelie              76.5           38.791391          18.346358   \n",
       "Chinstrap           34.5           48.833824          18.420588   \n",
       "Gentoo              62.5           47.504878          14.982114   \n",
       "\n",
       "           Flipper Length (mm)  Body Mass (g)  Delta 15 N (o/oo)  \\\n",
       "Species                                                            \n",
       "Adelie              189.953642    3700.662252           8.859733   \n",
       "Chinstrap           195.823529    3733.088235           9.356155   \n",
       "Gentoo              217.186992    5076.016260           8.245338   \n",
       "\n",
       "           Delta 13 C (o/oo)  \n",
       "Species                       \n",
       "Adelie            -25.804194  \n",
       "Chinstrap         -24.546542  \n",
       "Gentoo            -26.185298  "
      ]
     },
     "execution_count": 7,
     "metadata": {},
     "output_type": "execute_result"
    }
   ],
   "source": [
    "penguins.groupby(\"Species\").mean()"
   ]
  },
  {
   "cell_type": "markdown",
   "id": "b1179525-0eb8-4a02-b1d7-0cafda54871e",
   "metadata": {},
   "source": [
    "### Discussion:\n",
    "_____\n",
    "\n",
    "**Culmen Length (mm):**\n",
    "- Seems to be a good distinguisher of Adelie from Gentoo/Chinstrap\n",
    "\n",
    "**Body Mass (g):**\n",
    "- Seems to be a good distinguisher of Gentoo from Adelie/Chinstrap"
   ]
  },
  {
   "cell_type": "markdown",
   "id": "1225c186-d388-4c91-a81b-71a14e738418",
   "metadata": {},
   "source": [
    "### Islands"
   ]
  },
  {
   "cell_type": "markdown",
   "id": "cb86ad78-a4ba-4e39-9e6b-805229deb4b5",
   "metadata": {},
   "source": [
    "##### Here are the three possible islands:"
   ]
  },
  {
   "cell_type": "code",
   "execution_count": 8,
   "id": "36bafc30-5760-4fe8-a81e-072e4647f602",
   "metadata": {},
   "outputs": [
    {
     "name": "stdout",
     "output_type": "stream",
     "text": [
      "Torgersen\n",
      "Biscoe\n",
      "Dream\n"
     ]
    }
   ],
   "source": [
    "island = penguins[\"Island\"].unique()\n",
    "for x in island:\n",
    "    print(x)"
   ]
  },
  {
   "cell_type": "markdown",
   "id": "bc7988d4-da3e-48ef-a07c-f8ab8d1cfc5b",
   "metadata": {},
   "source": [
    "##### Frequency of Penguins by Species per Island"
   ]
  },
  {
   "cell_type": "markdown",
   "id": "c581a10c-5a69-4a17-bbb3-6a408fe955dc",
   "metadata": {},
   "source": [
    "Seeing that there are only three possible islands, we will make a figure to evaluate whether the island of a penguin is a qualitative feature we can use to predict species.\n",
    "\n",
    "First, we will make a figure which shows the frequency of a penguin species on each island."
   ]
  },
  {
   "cell_type": "code",
   "execution_count": 9,
   "id": "5fb71e86-bf7c-4dac-8f54-9734f067f0ed",
   "metadata": {},
   "outputs": [
    {
     "data": {
      "text/plain": [
       "<matplotlib.legend.Legend at 0x7fa9e0af67f0>"
      ]
     },
     "execution_count": 9,
     "metadata": {},
     "output_type": "execute_result"
    },
    {
     "data": {
      "image/png": "[encoded data removed]",
      "text/plain": [
       "<Figure size 576x288 with 1 Axes>"
      ]
     },
     "metadata": {
      "needs_background": "light"
     },
     "output_type": "display_data"
    }
   ],
   "source": [
    "fig, ax = plt.subplots(1, figsize= (8, 4))\n",
    "# for penguin in species:\n",
    "\n",
    "# penguins[\"Species\"] = penguins[\"Species\"].str.split().str.get(0) # changes scientific name of penguin to one-word species\n",
    "penguins[\"ShortName\"] = penguins[\"Species\"].str.split().str.get(0)\n",
    "def plot_hist(df): \n",
    "    ax.hist(df['Island'], label = df['Species'].iloc[0], alpha = 0.5) # makes hist with \n",
    "    plt.xticks(label = df['Island'])\n",
    "    \n",
    "#     ax.set(label = str(species[0]).split()[0])\n",
    "\n",
    "penguins.groupby('Species').apply(plot_hist)\n",
    "plt.title(label = 'Frequency of Penguins by Species per Island', fontsize = 15)\n",
    "plt.xticks(fontsize = 12)\n",
    "plt.xlabel(xlabel = 'Island', fontsize = 15)\n",
    "plt.ylabel(ylabel = 'Frequency of Penguin by Species', fontsize = 15)\n",
    "plt.xlim(-0.5, 2.5)\n",
    "ax.legend()"
   ]
  },
  {
   "cell_type": "markdown",
   "id": "3e682245-ebf9-4238-aa3a-7cbf4df37bd1",
   "metadata": {},
   "source": [
    "From the figure, we can observe that the qualitative feature of a penguin's island is useful in deducing a penguin's species."
   ]
  },
  {
   "cell_type": "markdown",
   "id": "b9403fe9-188a-4b06-ac9a-2a9c6550dec3",
   "metadata": {},
   "source": [
    "### Discussion:\n",
    "_______\n",
    "\n",
    "**Adelie:**\n",
    "\n",
    "Seem to live everywhere, on all islands!\n",
    "\n",
    "**Chinstrap:**\n",
    "\n",
    "Live only on Dream Island!\n",
    "\n",
    "**Gentoo:**\n",
    "\n",
    "Live only on Biscoe Island!"
   ]
  },
  {
   "cell_type": "markdown",
   "id": "f09a64ae-5ef7-4350-b411-1aced0dcf117",
   "metadata": {},
   "source": [
    "Now, we can use this qualitative data in terms of numbers. We'll set each island to a number, and add a column \"Island_num\":"
   ]
  },
  {
   "cell_type": "code",
   "execution_count": 10,
   "id": "ea4edf6f-7155-4cdf-905c-518a2d28459c",
   "metadata": {},
   "outputs": [
    {
     "data": {
      "text/html": [
       "<div>\n",
       "<style scoped>\n",
       "    .dataframe tbody tr th:only-of-type {\n",
       "        vertical-align: middle;\n",
       "    }\n",
       "\n",
       "    .dataframe tbody tr th {\n",
       "        vertical-align: top;\n",
       "    }\n",
       "\n",
       "    .dataframe thead th {\n",
       "        text-align: right;\n",
       "    }\n",
       "</style>\n",
       "<table border=\"1\" class=\"dataframe\">\n",
       "  <thead>\n",
       "    <tr style=\"text-align: right;\">\n",
       "      <th></th>\n",
       "      <th>studyName</th>\n",
       "      <th>Sample Number</th>\n",
       "      <th>Species</th>\n",
       "      <th>Region</th>\n",
       "      <th>Island</th>\n",
       "      <th>Stage</th>\n",
       "      <th>Individual ID</th>\n",
       "      <th>Clutch Completion</th>\n",
       "      <th>Date Egg</th>\n",
       "      <th>Culmen Length (mm)</th>\n",
       "      <th>Culmen Depth (mm)</th>\n",
       "      <th>Flipper Length (mm)</th>\n",
       "      <th>Body Mass (g)</th>\n",
       "      <th>Sex</th>\n",
       "      <th>Delta 15 N (o/oo)</th>\n",
       "      <th>Delta 13 C (o/oo)</th>\n",
       "      <th>Comments</th>\n",
       "      <th>ShortName</th>\n",
       "      <th>Island_num</th>\n",
       "    </tr>\n",
       "  </thead>\n",
       "  <tbody>\n",
       "    <tr>\n",
       "      <th>0</th>\n",
       "      <td>PAL0708</td>\n",
       "      <td>1</td>\n",
       "      <td>Adelie</td>\n",
       "      <td>Anvers</td>\n",
       "      <td>Torgersen</td>\n",
       "      <td>Adult, 1 Egg Stage</td>\n",
       "      <td>N1A1</td>\n",
       "      <td>Yes</td>\n",
       "      <td>11/11/07</td>\n",
       "      <td>39.1</td>\n",
       "      <td>18.7</td>\n",
       "      <td>181.0</td>\n",
       "      <td>3750.0</td>\n",
       "      <td>MALE</td>\n",
       "      <td>NaN</td>\n",
       "      <td>NaN</td>\n",
       "      <td>Not enough blood for isotopes.</td>\n",
       "      <td>Adelie</td>\n",
       "      <td>2</td>\n",
       "    </tr>\n",
       "    <tr>\n",
       "      <th>1</th>\n",
       "      <td>PAL0708</td>\n",
       "      <td>2</td>\n",
       "      <td>Adelie</td>\n",
       "      <td>Anvers</td>\n",
       "      <td>Torgersen</td>\n",
       "      <td>Adult, 1 Egg Stage</td>\n",
       "      <td>N1A2</td>\n",
       "      <td>Yes</td>\n",
       "      <td>11/11/07</td>\n",
       "      <td>39.5</td>\n",
       "      <td>17.4</td>\n",
       "      <td>186.0</td>\n",
       "      <td>3800.0</td>\n",
       "      <td>FEMALE</td>\n",
       "      <td>8.94956</td>\n",
       "      <td>-24.69454</td>\n",
       "      <td>NaN</td>\n",
       "      <td>Adelie</td>\n",
       "      <td>2</td>\n",
       "    </tr>\n",
       "    <tr>\n",
       "      <th>2</th>\n",
       "      <td>PAL0708</td>\n",
       "      <td>3</td>\n",
       "      <td>Adelie</td>\n",
       "      <td>Anvers</td>\n",
       "      <td>Torgersen</td>\n",
       "      <td>Adult, 1 Egg Stage</td>\n",
       "      <td>N2A1</td>\n",
       "      <td>Yes</td>\n",
       "      <td>11/16/07</td>\n",
       "      <td>40.3</td>\n",
       "      <td>18.0</td>\n",
       "      <td>195.0</td>\n",
       "      <td>3250.0</td>\n",
       "      <td>FEMALE</td>\n",
       "      <td>8.36821</td>\n",
       "      <td>-25.33302</td>\n",
       "      <td>NaN</td>\n",
       "      <td>Adelie</td>\n",
       "      <td>2</td>\n",
       "    </tr>\n",
       "    <tr>\n",
       "      <th>3</th>\n",
       "      <td>PAL0708</td>\n",
       "      <td>4</td>\n",
       "      <td>Adelie</td>\n",
       "      <td>Anvers</td>\n",
       "      <td>Torgersen</td>\n",
       "      <td>Adult, 1 Egg Stage</td>\n",
       "      <td>N2A2</td>\n",
       "      <td>Yes</td>\n",
       "      <td>11/16/07</td>\n",
       "      <td>NaN</td>\n",
       "      <td>NaN</td>\n",
       "      <td>NaN</td>\n",
       "      <td>NaN</td>\n",
       "      <td>NaN</td>\n",
       "      <td>NaN</td>\n",
       "      <td>NaN</td>\n",
       "      <td>Adult not sampled.</td>\n",
       "      <td>Adelie</td>\n",
       "      <td>2</td>\n",
       "    </tr>\n",
       "    <tr>\n",
       "      <th>4</th>\n",
       "      <td>PAL0708</td>\n",
       "      <td>5</td>\n",
       "      <td>Adelie</td>\n",
       "      <td>Anvers</td>\n",
       "      <td>Torgersen</td>\n",
       "      <td>Adult, 1 Egg Stage</td>\n",
       "      <td>N3A1</td>\n",
       "      <td>Yes</td>\n",
       "      <td>11/16/07</td>\n",
       "      <td>36.7</td>\n",
       "      <td>19.3</td>\n",
       "      <td>193.0</td>\n",
       "      <td>3450.0</td>\n",
       "      <td>FEMALE</td>\n",
       "      <td>8.76651</td>\n",
       "      <td>-25.32426</td>\n",
       "      <td>NaN</td>\n",
       "      <td>Adelie</td>\n",
       "      <td>2</td>\n",
       "    </tr>\n",
       "  </tbody>\n",
       "</table>\n",
       "</div>"
      ],
      "text/plain": [
       "  studyName  Sample Number Species  Region     Island               Stage  \\\n",
       "0   PAL0708              1  Adelie  Anvers  Torgersen  Adult, 1 Egg Stage   \n",
       "1   PAL0708              2  Adelie  Anvers  Torgersen  Adult, 1 Egg Stage   \n",
       "2   PAL0708              3  Adelie  Anvers  Torgersen  Adult, 1 Egg Stage   \n",
       "3   PAL0708              4  Adelie  Anvers  Torgersen  Adult, 1 Egg Stage   \n",
       "4   PAL0708              5  Adelie  Anvers  Torgersen  Adult, 1 Egg Stage   \n",
       "\n",
       "  Individual ID Clutch Completion  Date Egg  Culmen Length (mm)  \\\n",
       "0          N1A1               Yes  11/11/07                39.1   \n",
       "1          N1A2               Yes  11/11/07                39.5   \n",
       "2          N2A1               Yes  11/16/07                40.3   \n",
       "3          N2A2               Yes  11/16/07                 NaN   \n",
       "4          N3A1               Yes  11/16/07                36.7   \n",
       "\n",
       "   Culmen Depth (mm)  Flipper Length (mm)  Body Mass (g)     Sex  \\\n",
       "0               18.7                181.0         3750.0    MALE   \n",
       "1               17.4                186.0         3800.0  FEMALE   \n",
       "2               18.0                195.0         3250.0  FEMALE   \n",
       "3                NaN                  NaN            NaN     NaN   \n",
       "4               19.3                193.0         3450.0  FEMALE   \n",
       "\n",
       "   Delta 15 N (o/oo)  Delta 13 C (o/oo)                        Comments  \\\n",
       "0                NaN                NaN  Not enough blood for isotopes.   \n",
       "1            8.94956          -24.69454                             NaN   \n",
       "2            8.36821          -25.33302                             NaN   \n",
       "3                NaN                NaN              Adult not sampled.   \n",
       "4            8.76651          -25.32426                             NaN   \n",
       "\n",
       "  ShortName  Island_num  \n",
       "0    Adelie           2  \n",
       "1    Adelie           2  \n",
       "2    Adelie           2  \n",
       "3    Adelie           2  \n",
       "4    Adelie           2  "
      ]
     },
     "execution_count": 10,
     "metadata": {},
     "output_type": "execute_result"
    }
   ],
   "source": [
    "# Makes categorical data (i.e. islands) into numbers\n",
    "le = preprocessing.LabelEncoder() # makes an instance of labelencoder\n",
    "X = le.fit_transform(penguins[\"Island\"]) \n",
    "penguins[\"Island_num\"] = le.fit_transform(penguins[\"Island\"]) # actually sets the #s to each island\n",
    "\n",
    "penguins.head()\n",
    "\n",
    "# Dream = 1\n",
    "# Torgenson = 2\n",
    "# Biscoe = 3"
   ]
  },
  {
   "cell_type": "markdown",
   "id": "c332399f-0e9a-44e7-943d-2f548b19c01c",
   "metadata": {},
   "source": [
    "We have successfully incorporated the qualitative feature \"Island\" of a species into our dataframe in terms of numbers under our new column \"Island_num\".\n",
    "\n",
    "Secondly, we will find two quantitative features of our dataframe. In this case, let's access the columns 'Culmen Length (mm)' and 'Body Mass (g)'."
   ]
  },
  {
   "cell_type": "code",
   "execution_count": 11,
   "id": "9a65a93e-4fda-4f83-812b-90912df44a71",
   "metadata": {},
   "outputs": [
    {
     "data": {
      "text/html": [
       "<div>\n",
       "<style scoped>\n",
       "    .dataframe tbody tr th:only-of-type {\n",
       "        vertical-align: middle;\n",
       "    }\n",
       "\n",
       "    .dataframe tbody tr th {\n",
       "        vertical-align: top;\n",
       "    }\n",
       "\n",
       "    .dataframe thead th {\n",
       "        text-align: right;\n",
       "    }\n",
       "</style>\n",
       "<table border=\"1\" class=\"dataframe\">\n",
       "  <thead>\n",
       "    <tr style=\"text-align: right;\">\n",
       "      <th></th>\n",
       "      <th>Culmen Length (mm)</th>\n",
       "      <th>Body Mass (g)</th>\n",
       "    </tr>\n",
       "  </thead>\n",
       "  <tbody>\n",
       "    <tr>\n",
       "      <th>0</th>\n",
       "      <td>39.1</td>\n",
       "      <td>3750.0</td>\n",
       "    </tr>\n",
       "    <tr>\n",
       "      <th>1</th>\n",
       "      <td>39.5</td>\n",
       "      <td>3800.0</td>\n",
       "    </tr>\n",
       "    <tr>\n",
       "      <th>2</th>\n",
       "      <td>40.3</td>\n",
       "      <td>3250.0</td>\n",
       "    </tr>\n",
       "    <tr>\n",
       "      <th>3</th>\n",
       "      <td>NaN</td>\n",
       "      <td>NaN</td>\n",
       "    </tr>\n",
       "    <tr>\n",
       "      <th>4</th>\n",
       "      <td>36.7</td>\n",
       "      <td>3450.0</td>\n",
       "    </tr>\n",
       "    <tr>\n",
       "      <th>...</th>\n",
       "      <td>...</td>\n",
       "      <td>...</td>\n",
       "    </tr>\n",
       "    <tr>\n",
       "      <th>339</th>\n",
       "      <td>NaN</td>\n",
       "      <td>NaN</td>\n",
       "    </tr>\n",
       "    <tr>\n",
       "      <th>340</th>\n",
       "      <td>46.8</td>\n",
       "      <td>4850.0</td>\n",
       "    </tr>\n",
       "    <tr>\n",
       "      <th>341</th>\n",
       "      <td>50.4</td>\n",
       "      <td>5750.0</td>\n",
       "    </tr>\n",
       "    <tr>\n",
       "      <th>342</th>\n",
       "      <td>45.2</td>\n",
       "      <td>5200.0</td>\n",
       "    </tr>\n",
       "    <tr>\n",
       "      <th>343</th>\n",
       "      <td>49.9</td>\n",
       "      <td>5400.0</td>\n",
       "    </tr>\n",
       "  </tbody>\n",
       "</table>\n",
       "<p>344 rows × 2 columns</p>\n",
       "</div>"
      ],
      "text/plain": [
       "     Culmen Length (mm)  Body Mass (g)\n",
       "0                  39.1         3750.0\n",
       "1                  39.5         3800.0\n",
       "2                  40.3         3250.0\n",
       "3                   NaN            NaN\n",
       "4                  36.7         3450.0\n",
       "..                  ...            ...\n",
       "339                 NaN            NaN\n",
       "340                46.8         4850.0\n",
       "341                50.4         5750.0\n",
       "342                45.2         5200.0\n",
       "343                49.9         5400.0\n",
       "\n",
       "[344 rows x 2 columns]"
      ]
     },
     "execution_count": 11,
     "metadata": {},
     "output_type": "execute_result"
    }
   ],
   "source": [
    "penguins[['Culmen Length (mm)', 'Body Mass (g)']]"
   ]
  },
  {
   "cell_type": "markdown",
   "id": "f278a666-0c73-4961-ada3-d21ce35c3d77",
   "metadata": {},
   "source": [
    "Okay, let's get rid of NaN values which won't help us make an accurate prediction:"
   ]
  },
  {
   "cell_type": "code",
   "execution_count": 12,
   "id": "3666dab8-9dc7-4e66-834c-77f74e68c2ca",
   "metadata": {},
   "outputs": [
    {
     "data": {
      "text/html": [
       "<div>\n",
       "<style scoped>\n",
       "    .dataframe tbody tr th:only-of-type {\n",
       "        vertical-align: middle;\n",
       "    }\n",
       "\n",
       "    .dataframe tbody tr th {\n",
       "        vertical-align: top;\n",
       "    }\n",
       "\n",
       "    .dataframe thead th {\n",
       "        text-align: right;\n",
       "    }\n",
       "</style>\n",
       "<table border=\"1\" class=\"dataframe\">\n",
       "  <thead>\n",
       "    <tr style=\"text-align: right;\">\n",
       "      <th></th>\n",
       "      <th>Culmen Length (mm)</th>\n",
       "      <th>Body Mass (g)</th>\n",
       "    </tr>\n",
       "  </thead>\n",
       "  <tbody>\n",
       "    <tr>\n",
       "      <th>0</th>\n",
       "      <td>39.1</td>\n",
       "      <td>3750.0</td>\n",
       "    </tr>\n",
       "    <tr>\n",
       "      <th>1</th>\n",
       "      <td>39.5</td>\n",
       "      <td>3800.0</td>\n",
       "    </tr>\n",
       "    <tr>\n",
       "      <th>2</th>\n",
       "      <td>40.3</td>\n",
       "      <td>3250.0</td>\n",
       "    </tr>\n",
       "    <tr>\n",
       "      <th>4</th>\n",
       "      <td>36.7</td>\n",
       "      <td>3450.0</td>\n",
       "    </tr>\n",
       "    <tr>\n",
       "      <th>5</th>\n",
       "      <td>39.3</td>\n",
       "      <td>3650.0</td>\n",
       "    </tr>\n",
       "    <tr>\n",
       "      <th>...</th>\n",
       "      <td>...</td>\n",
       "      <td>...</td>\n",
       "    </tr>\n",
       "    <tr>\n",
       "      <th>338</th>\n",
       "      <td>47.2</td>\n",
       "      <td>4925.0</td>\n",
       "    </tr>\n",
       "    <tr>\n",
       "      <th>340</th>\n",
       "      <td>46.8</td>\n",
       "      <td>4850.0</td>\n",
       "    </tr>\n",
       "    <tr>\n",
       "      <th>341</th>\n",
       "      <td>50.4</td>\n",
       "      <td>5750.0</td>\n",
       "    </tr>\n",
       "    <tr>\n",
       "      <th>342</th>\n",
       "      <td>45.2</td>\n",
       "      <td>5200.0</td>\n",
       "    </tr>\n",
       "    <tr>\n",
       "      <th>343</th>\n",
       "      <td>49.9</td>\n",
       "      <td>5400.0</td>\n",
       "    </tr>\n",
       "  </tbody>\n",
       "</table>\n",
       "<p>342 rows × 2 columns</p>\n",
       "</div>"
      ],
      "text/plain": [
       "     Culmen Length (mm)  Body Mass (g)\n",
       "0                  39.1         3750.0\n",
       "1                  39.5         3800.0\n",
       "2                  40.3         3250.0\n",
       "4                  36.7         3450.0\n",
       "5                  39.3         3650.0\n",
       "..                  ...            ...\n",
       "338                47.2         4925.0\n",
       "340                46.8         4850.0\n",
       "341                50.4         5750.0\n",
       "342                45.2         5200.0\n",
       "343                49.9         5400.0\n",
       "\n",
       "[342 rows x 2 columns]"
      ]
     },
     "execution_count": 12,
     "metadata": {},
     "output_type": "execute_result"
    }
   ],
   "source": [
    "X = penguins[[\"Culmen Length (mm)\", \"Body Mass (g)\"]].dropna()\n",
    "X"
   ]
  },
  {
   "cell_type": "markdown",
   "id": "5201380a-f79d-43e9-81eb-075d40f69165",
   "metadata": {},
   "source": [
    "We will now create a scatterplot which compares culmen length and body mass of penguins labeled by species.\n",
    "Then, we will hopefully observe a relationship between species and culmen length and body mass:"
   ]
  },
  {
   "cell_type": "code",
   "execution_count": 13,
   "id": "0f9117fa-4267-41a5-95da-8f47b752fceb",
   "metadata": {},
   "outputs": [
    {
     "data": {
      "image/png": "[encoded data removed]",
      "text/plain": [
       "<Figure size 432x288 with 1 Axes>"
      ]
     },
     "metadata": {
      "needs_background": "light"
     },
     "output_type": "display_data"
    }
   ],
   "source": [
    "species = penguins[\"ShortName\"].unique()\n",
    "\n",
    "fig, ax = plt.subplots(1)\n",
    "ax.set(xlabel = \"Culmen Length (mm)\", ylabel = \"Culmen Depth (mm)\", title = \"Culmen Length vs. Depth by Species\")\n",
    "\n",
    "\n",
    "for specie in species:\n",
    "    new = penguins[penguins[\"Species\"] == specie]\n",
    "    x = new[\"Culmen Length (mm)\"]\n",
    "    y = new[\"Culmen Depth (mm)\"]\n",
    "    ax.scatter(x, y, alpha = 0.3, label = specie)\n",
    "    ax.legend()"
   ]
  },
  {
   "cell_type": "markdown",
   "id": "098e23fb-2242-43a7-9167-27e8f7941644",
   "metadata": {},
   "source": [
    "Observing the scatterplot, we can deduce that there is a strong relationship between a penguin's species and its culmen length, depth.\n",
    "\n",
    "- Adelie penguins tend to have lower culmen length, higher culmen depth.\n",
    "\n",
    "- Chinstrap penguins tend to have higher culmen length, higher culmen depth.\n",
    "\n",
    "- Gentoo penguins tend to have higher culmen length, lower culmen depth."
   ]
  },
  {
   "cell_type": "markdown",
   "id": "efa80683-4108-4e82-b741-6527b9a73a29",
   "metadata": {},
   "source": [
    "## Building Models:"
   ]
  },
  {
   "cell_type": "markdown",
   "id": "deb396ec-daaa-415b-9192-e70ed0c2e780",
   "metadata": {},
   "source": [
    "At this point, we have isolated:\n",
    "\n",
    "- One qualitative feature: `\"Island\"`\n",
    "\n",
    "- Two quantitative features: `\"Culmen Length (mm)\"`, `\"Body Mass (g)\"`\n",
    "\n",
    "These features serve as good predictors of a penguin's species. Now, we will build three predictive models, and observe how each one performs."
   ]
  },
  {
   "cell_type": "markdown",
   "id": "7c44e05c-1282-4033-b065-f25f0ce81385",
   "metadata": {},
   "source": [
    "First, we will create a class. It will read the csv file as a df, use the variables we decided on, and make `X_train`, `y_train`, `X_test`, and `y_test` to use for creation of models later.\n",
    "\n",
    "We had to ensure that the class could clean data that has species data (\"complete,\" pre-existing data) as well as penguin data that does not have information about species. This was handled with `if`/`else` statements.\n",
    "\n",
    "#### Class:"
   ]
  },
  {
   "cell_type": "code",
   "execution_count": 14,
   "id": "cf09e780-2e22-46f6-907b-2c2e5688689d",
   "metadata": {},
   "outputs": [],
   "source": [
    "class penguinData():\n",
    "    \"\"\" \n",
    "    Reads in csv file of penguin data and cleans up for Species Prediction \n",
    "    by functions logisticRegression() or randomForestClassifier()\n",
    "    \"\"\"\n",
    "    \n",
    "    def __init__(self, csv): #, X_train = pd.DataFrame(), X_test = pd.DataFrame(), y_train = pd.DataFrame(), y_test = pd.DataFrame()): # Takes in and reads csv file\n",
    "        \"\"\"\n",
    "        Initialize class with user-supplied csv file\n",
    "        Args:\n",
    "            csv: a .csv file\n",
    "        Returns: \n",
    "            None\n",
    "        \"\"\"\n",
    "        self.csv = csv # instantiate the csv\n",
    "        self.df = pd.read_csv(csv) # instantiate the df which reads in the csv file\n",
    "        \n",
    "    def readData(self): # Method that reads the data; pass in self, which contains the read csv file from the init method\n",
    "        \"\"\"\n",
    "        Prints a readout of the data read\n",
    "        \"\"\"\n",
    "        \n",
    "        print(self.df) # instantiate using self.___\n",
    "    \n",
    "    def dropNAN(self):\n",
    "        \"\"\"\n",
    "        Drops any data that will not be used (i.e. drops unused columns or NAN values)\n",
    "        \"\"\"\n",
    "        \n",
    "        try: # only for training data, like palmer_penguins.csv, which contain Species data\n",
    "            self.variables = self.df[['Culmen Length (mm)', 'Body Mass (g)', 'Island', 'Species']] # data on penguins with Species\n",
    "        \n",
    "        except KeyError: # for the actual dataset which does not contain Species data\n",
    "            self.variables = self.df[['Culmen Length (mm)', 'Body Mass (g)', 'Island']] # data on penguins without Species\n",
    "            \n",
    "        self.df = self.variables.dropna(axis = 0)\n",
    "\n",
    "    def islandToNum(self): \n",
    "        \"\"\"\n",
    "        Changes categorical island data to numbers.\n",
    "        \"\"\"\n",
    "        \n",
    "        self.le = preprocessing.LabelEncoder() # makes an instance of labelencoder\n",
    "        self.X = self.le.fit_transform(self.df['Island']) \n",
    "        self.df['Island_num'] = self.le.fit_transform(self.df[\"Island\"]) # actually sets the #s to each island\n",
    "    \n",
    "    def splitTrainTest(self):\n",
    "        \"\"\"\n",
    "        Splits the penguin data into X (predictor variables) and y (target variables). \n",
    "        If the data is training data (i.e. palmer_penguins.csv), generates X_train, X_test, y_train, and y_test groups;\n",
    "        if the data is actual data (i.e. penguin data without Species), only creates dataframe of X (predictor variables)\n",
    "        \"\"\"\n",
    "        \n",
    "        self.dropNAN() # member function call to drop NAN values\n",
    "        self.islandToNum() # member function call to turn island categories into numbers\n",
    "    \n",
    "        self.X = self.df[['Culmen Length (mm)', 'Body Mass (g)', 'Island_num']] # sets predictor variables\n",
    "        \n",
    "        if 'Species' in self.df: # for \"complete\" data that contains true Species (e.g. palmer_penguins.csv)\n",
    "            self.y = self.df['Species'] # this sets the target variables\n",
    "            self.X_train, self.X_test, self.y_train, self.y_test = train_test_split(self.X, self.y, test_size = 0.2, random_state = 2022) # creates instance variables of X/y, train/test\n",
    "#         print(self.X_train, self.X_test, self.y_train, self.y_test)"
   ]
  },
  {
   "cell_type": "markdown",
   "id": "5e679ce8-ad13-40a0-a922-6a512b002809",
   "metadata": {},
   "source": [
    "The code below takes in a csv file of our data (In this case, palmer_penguins.csv), and puts the csv into the class.\n",
    "\n",
    "We are also making sure that the csv is useable."
   ]
  },
  {
   "cell_type": "code",
   "execution_count": 15,
   "id": "36f509a4-75c6-46dd-bcb1-9105c00f7147",
   "metadata": {},
   "outputs": [],
   "source": [
    "csv = 'palmer_penguins.csv'\n",
    "penguinData(csv)\n",
    "\n",
    "try:\n",
    "    with open(csv, \"wb\") as f:\n",
    "        f.write(to_write)\n",
    "    penguins = pd.read_csv('palmer_penguins.csv') # read csv file, save it as a data frame\n",
    "except csv.Error as error:\n",
    "    raise ValueError(\"Not a csv\")\n",
    "    \n",
    "try:\n",
    "    df = pd.read_csv(csv)\n",
    "except FileNotFoundError:\n",
    "    print(\"File not found\")\n",
    "except pd.errors.EmptyDataError:\n",
    "    print(\"No data\")\n",
    "except pd.errors.ParserError:\n",
    "    print(\"Parse error\")\n",
    "except Exception:\n",
    "    print(\"Some other exception\")\n",
    "    \n",
    "# Second exception handling comes from:\n",
    "# https://stackoverflow.com/questions/64302419/what-are-all-of-the-exceptions-that-pandas-read-csv-throw"
   ]
  },
  {
   "cell_type": "markdown",
   "id": "5d8c5ceb-0231-41fe-bfaf-1afd488a0659",
   "metadata": {},
   "source": [
    "Now, we can predict penguin species based on a few models.\n",
    "\n",
    "These functions will use pre-existing, \"complete\" penguin data that has information on both the predictive variables \n",
    "\n",
    "`\"Island\"`, `\"Culmen Length (mm)\"`, `\"Body Mass (g)\"` \n",
    "\n",
    "as well as the target variables \n",
    "\n",
    "`\"Species\"` \n",
    "\n",
    "as data for training. \n",
    "\n",
    "This set was called `training` in Model 1 and 2, and was split into `X_train`, `y_train`, `X_test`, and `y_test` groups."
   ]
  },
  {
   "cell_type": "markdown",
   "id": "7edef77b",
   "metadata": {},
   "source": [
    "**makeFakeData**\n",
    "\n",
    "Although all our data for the entire project is from palmer_penguins.csv, we wanted to be able to simulate having \"real\" data about penguins whose species have not yet been identified. \n",
    "\n",
    "To obtain realisitic data, we made a function that randomly takes 100 penguin data from palmer_penguins.csv, only containing\n",
    "\n",
    "* Culmen Length (mm)\n",
    "* Body Mass (g)\n",
    "* Island\n",
    "\n",
    "and excludes Species data.\n",
    "\n",
    "We will use this `fake_data.csv` to make species prediction on using our custom functions. "
   ]
  },
  {
   "cell_type": "code",
   "execution_count": 16,
   "id": "c68859f2",
   "metadata": {},
   "outputs": [],
   "source": [
    "data = 'palmer_penguins.csv'\n",
    "\n",
    "def makeFakeData(csv):\n",
    "    whole = pd.read_csv(csv)\n",
    "    fake = whole.sample(n = 100)\n",
    "    fake = fake[['Culmen Length (mm)', 'Body Mass (g)', 'Island']]\n",
    "    return fake.to_csv('fake_data.csv')\n",
    "\n",
    "makeFakeData(data)"
   ]
  },
  {
   "cell_type": "markdown",
   "id": "b66fac72-e23a-4837-ae88-bbae9de1af9d",
   "metadata": {},
   "source": [
    "### Model 1:\n",
    "\n",
    "#### Logistic Regression"
   ]
  },
  {
   "cell_type": "code",
   "execution_count": 17,
   "id": "8d1d7618-11fa-4622-a79f-f43f924ab2d3",
   "metadata": {},
   "outputs": [],
   "source": [
    "def logisticRegression(csv): \n",
    "    \"\"\"\n",
    "    Uses existing, complete penguin data (palmer_penguins.csv) as training dataset to predict the species of penguin on\n",
    "    actual penguin dataset without species information using Logistic Regression model.\n",
    "    Args: \n",
    "        csv: a .csv file\n",
    "    Returns:\n",
    "        Prints the train and test scores using Logistic Regression on existing, complete penguin data.\n",
    "        Returns a new .csv file with species predictions appended to data from original csv .\n",
    "    \"\"\"\n",
    "    \n",
    "    training = penguinData('palmer_penguins.csv') # instantiate an object of class penguinData (class we just made)\n",
    "    training.dropNAN()\n",
    "    training.islandToNum()\n",
    "    training.splitTrainTest() # call method splitTrainTest() on the object penguins\n",
    "    \n",
    "    actual = penguinData(csv) # csv file without Species in it (don't know the species but collected penguin data)\n",
    "    actual.dropNAN()\n",
    "    actual.islandToNum()\n",
    "    actual.splitTrainTest()\n",
    "    \n",
    "    LR = LogisticRegression(max_iter = 500) # max_iter default usually 100, but our data is \"too big\"\n",
    "    LR.fit(training.X_train, training.y_train) # for every review, LR will output a \"probability\" of the review being positive\n",
    "    \n",
    "    LR_train_score = LR.score(training.X_train, training.y_train) # score the training set\n",
    "    LR_test_score = LR.score(training.X_test, training.y_test) # score the test set\n",
    "#     # visually compare to see if there is overfitting\n",
    "    \n",
    "    speciesPrediction = LR.predict(actual.X) # makes species predictions using logistic regression\n",
    "    \n",
    "    actual.df['Species Prediction'] = speciesPrediction # adds column to dataframe with species predictions\n",
    "\n",
    "    print(\"Trained Score:\", LR_train_score, \"\\nTest Score:\", LR_test_score) # prints trained vs test score\n",
    "    \n",
    "    return actual.df.to_csv('Predicted_Species_Logistic_Regression.csv') # returns a csv of all data plus the species predictions"
   ]
  },
  {
   "cell_type": "code",
   "execution_count": 18,
   "id": "dc081867-cf37-4d1a-b583-57e19af309a1",
   "metadata": {},
   "outputs": [
    {
     "name": "stdout",
     "output_type": "stream",
     "text": [
      "Trained Score: 0.9816849816849816 \n",
      "Test Score: 0.9420289855072463\n"
     ]
    },
    {
     "name": "stderr",
     "output_type": "stream",
     "text": [
      "/var/folders/78/2bv40vms77nf2gnw379jx2rc0000gn/T/ipykernel_4287/2170495507.py:45: SettingWithCopyWarning: \n",
      "A value is trying to be set on a copy of a slice from a DataFrame.\n",
      "Try using .loc[row_indexer,col_indexer] = value instead\n",
      "\n",
      "See the caveats in the documentation: https://pandas.pydata.org/pandas-docs/stable/user_guide/indexing.html#returning-a-view-versus-a-copy\n",
      "  self.df['Island_num'] = self.le.fit_transform(self.df[\"Island\"]) # actually sets the #s to each island\n"
     ]
    }
   ],
   "source": [
    "logisticRegression('fake_data.csv')"
   ]
  },
  {
   "cell_type": "markdown",
   "id": "1e9d3198-501e-4b5d-9513-56cafd162827",
   "metadata": {},
   "source": [
    "### Model 2:\n",
    "\n",
    "#### Random Forest Classification"
   ]
  },
  {
   "cell_type": "code",
   "execution_count": 19,
   "id": "dd9dd5d7-caa5-4a89-bb6f-7c6426273123",
   "metadata": {},
   "outputs": [],
   "source": [
    "def randomForestClassifier(csv):\n",
    "    \"\"\"\n",
    "    Uses existing, complete penguin data (palmer_penguins.csv) as training dataset to predict the species of penguin on\n",
    "    actual penguin dataset without species information using Random Forest Classifier model.\n",
    "    Args: \n",
    "        csv: a .csv file\n",
    "    Returns:\n",
    "        Prints the train and test scores using Random Forest Classifier on existing, complete penguin data.\n",
    "        Returns a new .csv file with species predictions appended to data from original csv .\n",
    "    \"\"\"\n",
    "    \n",
    "    training = penguinData('palmer_penguins.csv') # instantiate an object of class penguinData (class we just made)\n",
    "    training.dropNAN()\n",
    "    training.islandToNum()\n",
    "    training.splitTrainTest() # call method splitTrainTest() on the object penguins\n",
    "    \n",
    "    actual = penguinData(csv)\n",
    "    actual.dropNAN()\n",
    "    actual.islandToNum()\n",
    "    actual.splitTrainTest()\n",
    "    \n",
    "    clf = RandomForestClassifier(max_depth=2, random_state=0)\n",
    "    clf.fit(training.X_train, training.y_train)\n",
    "    \n",
    "    rfc_train_score = clf.score(training.X_train, training.y_train)\n",
    "    rfc_test_score = clf.score(training.X_test, training.y_test)\n",
    "    \n",
    "    speciesPrediction = clf.predict(actual.X)\n",
    "    actual.df['Species Prediction'] = speciesPrediction # adds column to dataframe with species predictions\n",
    "    \n",
    "    print(\"Trained Score:\", rfc_train_score, \"\\nTest Score:\", rfc_test_score) # prints trained vs test score\n",
    "    \n",
    "    return actual.df.to_csv('Predicted_Species_Random_Forest_Classifier.csv')"
   ]
  },
  {
   "cell_type": "code",
   "execution_count": 20,
   "id": "942b0be8-0c15-461d-8a83-fcb652b7cd2f",
   "metadata": {},
   "outputs": [
    {
     "name": "stdout",
     "output_type": "stream",
     "text": [
      "Trained Score: 0.9743589743589743 \n",
      "Test Score: 0.9130434782608695\n"
     ]
    },
    {
     "name": "stderr",
     "output_type": "stream",
     "text": [
      "/var/folders/78/2bv40vms77nf2gnw379jx2rc0000gn/T/ipykernel_4287/2170495507.py:45: SettingWithCopyWarning: \n",
      "A value is trying to be set on a copy of a slice from a DataFrame.\n",
      "Try using .loc[row_indexer,col_indexer] = value instead\n",
      "\n",
      "See the caveats in the documentation: https://pandas.pydata.org/pandas-docs/stable/user_guide/indexing.html#returning-a-view-versus-a-copy\n",
      "  self.df['Island_num'] = self.le.fit_transform(self.df[\"Island\"]) # actually sets the #s to each island\n"
     ]
    }
   ],
   "source": [
    "randomForestClassifier('fake_data.csv')"
   ]
  },
  {
   "cell_type": "markdown",
   "id": "6b506985-8096-4898-a095-4a607438ff8b",
   "metadata": {},
   "source": [
    "### Model 3:\n",
    "\n",
    "#### Clustering"
   ]
  },
  {
   "cell_type": "markdown",
   "id": "64b91461-780f-4fd9-bbd5-2bc5e4adb12f",
   "metadata": {},
   "source": [
    "Clustering is unsupervised learning, meaning that we do not give the data labels (y).\n",
    "\n",
    "The algorithm will look for n_clusters (an integer) amount of characteristics and start grouping/clustering the data based on those characteristics.\n",
    "\n",
    "The penguin scientist must find out what the labels that the algorithm is using is are."
   ]
  },
  {
   "cell_type": "code",
   "execution_count": 21,
   "id": "f396f619-0a3f-4ea9-ae6b-abbb41b0a17b",
   "metadata": {},
   "outputs": [
    {
     "data": {
      "text/plain": [
       "-29158614.48331931"
      ]
     },
     "execution_count": 21,
     "metadata": {},
     "output_type": "execute_result"
    }
   ],
   "source": [
    "X = penguins[[\"Culmen Length (mm)\", \"Body Mass (g)\"]].dropna()\n",
    "kmeans = KMeans(n_clusters = 3)\n",
    "kmeans.fit(X)\n",
    "kmeans.score(X)"
   ]
  },
  {
   "cell_type": "code",
   "execution_count": 22,
   "id": "cf31fd51-c69a-4db2-b730-79cda5caa9a9",
   "metadata": {},
   "outputs": [
    {
     "data": {
      "text/plain": [
       "<matplotlib.collections.PathCollection at 0x7fa9e0b5b250>"
      ]
     },
     "execution_count": 22,
     "metadata": {},
     "output_type": "execute_result"
    },
    {
     "data": {
      "image/png": "[encoded data removed]",
      "text/plain": [
       "<Figure size 432x288 with 1 Axes>"
      ]
     },
     "metadata": {
      "needs_background": "light"
     },
     "output_type": "display_data"
    }
   ],
   "source": [
    "y_kmeans = kmeans.predict(X)\n",
    "fig, ax = plt.subplots(1)\n",
    "plt.title('Predicted Clustering of Data by Three Unknown Characteristics')\n",
    "ax.scatter(X[\"Culmen Length (mm)\"], X[\"Body Mass (g)\"], c = y_kmeans)"
   ]
  },
  {
   "cell_type": "markdown",
   "id": "a530347a-5f6a-48cf-a1c7-7bce10f21521",
   "metadata": {},
   "source": [
    "Comparing this to our earlier scatterplot (showing culmen length, depth for species), we see that three different clusters are formed using unknown shared characteristics.\n",
    "\n",
    "The clustering model is trying to find shared characteristics of the data set, but we want to be able to predict a single characteristic (species).\n",
    "\n",
    "Therefore, the clustering model does not help us predict a penguin's species, so it is not a good model to use."
   ]
  },
  {
   "cell_type": "markdown",
   "id": "fedea437-c428-4fd4-9c0d-fe41fe5e5280",
   "metadata": {},
   "source": [
    "## Conclusion"
   ]
  },
  {
   "cell_type": "markdown",
   "id": "9c9039b0-fb3d-4118-b003-2b431fbc1a61",
   "metadata": {},
   "source": [
    "Evaluating the performance of our three models, we see:\n",
    "\n",
    "#### Logistic Regression:\n",
    "\n",
    "- Trained Score: 0.9853479853479854\n",
    "- Test Score: 0.9710144927536232\n",
    "\n",
    "Logistic Regression provides a very good prediction of a penguin's species, as the test score is very high and very close compared to the trained score."
   ]
  },
  {
   "cell_type": "markdown",
   "id": "495cfe88-c898-4d5e-85a4-348e9830e77c",
   "metadata": {},
   "source": [
    "#### Random Forest Classification:\n",
    "\n",
    "- Trained Score: 0.9633699633699634 \n",
    "- Test Score: 0.9130434782608695\n",
    "\n",
    "Random Forest Classification provides a decent prediction, but it doesn't perform as well as Logistic Regression since its test score is a bit lower."
   ]
  },
  {
   "cell_type": "markdown",
   "id": "a0a338a5-11c1-4293-877d-12fba381c76b",
   "metadata": {},
   "source": [
    "#### Clustering:\n",
    "\n",
    "As we discussed, clustering is unsupervised learning. Therefore, this model is not suited to our task.\n",
    "\n",
    "So we can conclude clustering is not as good a model in this case as Logistic Regression and Random Forest Classification."
   ]
  },
  {
   "cell_type": "markdown",
   "id": "6cea656f-8cae-461e-80f2-5b28ee926ded",
   "metadata": {},
   "source": [
    "#### Results\n",
    "\n",
    "##### Logistic Regression Model gives us:\n",
    "\n",
    "Trained Score: 0.9816849816849816 \n",
    "\n",
    "Test Score: 0.9420289855072463\n",
    "\n",
    "##### while the Random Forest Classification gives us:\n",
    "\n",
    "Trained Score: 0.9743589743589743 \n",
    "\n",
    "Test Score: 0.9130434782608695\n",
    "\n",
    "Since the test score for random fitting is less than the trained score for Random Forest Classification, and the percentages are lower than those of Logistic Regression,\n",
    "\n",
    "We can conclude that our Logistic Regression Model is best for predicting a penguin's species."
   ]
  }
 ],
 "metadata": {
  "kernelspec": {
   "display_name": "Python 3 (ipykernel)",
   "language": "python",
   "name": "python3"
  },
  "language_info": {
   "codemirror_mode": {
    "name": "ipython",
    "version": 3
   },
   "file_extension": ".py",
   "mimetype": "text/x-python",
   "name": "python",
   "nbconvert_exporter": "python",
   "pygments_lexer": "ipython3",
   "version": "3.9.7"
  }
 },
 "nbformat": 4,
 "nbformat_minor": 5
}
